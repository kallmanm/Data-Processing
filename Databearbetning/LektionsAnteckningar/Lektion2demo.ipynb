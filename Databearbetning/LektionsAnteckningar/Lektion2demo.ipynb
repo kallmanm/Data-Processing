{
 "cells": [
  {
   "cell_type": "markdown",
   "metadata": {},
   "source": [
    "# Lektion 2 Demo\n",
    "\n",
    "    moduler"
   ]
  },
  {
   "cell_type": "code",
   "execution_count": 15,
   "metadata": {
    "scrolled": false
   },
   "outputs": [
    {
     "name": "stdout",
     "output_type": "stream",
     "text": [
      "Help on built-in function cpu_count in module posix:\n",
      "\n",
      "cpu_count()\n",
      "    Return the number of CPUs in the system; return None if indeterminable.\n",
      "    \n",
      "    This number is not equivalent to the number of CPUs the current process can\n",
      "    use.  The number of usable CPUs can be obtained with\n",
      "    ``len(os.sched_getaffinity(0))``\n",
      "\n"
     ]
    }
   ],
   "source": [
    "import os, sys, math as master\n",
    "\n",
    "\n",
    "#help(math.radians)\n",
    "#print(sys.path)\n",
    "#help(math)\n",
    "#dir(os)\n",
    "#help(os)\n",
    "#help(\"modules\")\n",
    "#dir(__builtins__)\n",
    "#help(pow)"
   ]
  },
  {
   "cell_type": "markdown",
   "metadata": {},
   "source": [
    "Object oriented recap"
   ]
  },
  {
   "cell_type": "markdown",
   "metadata": {},
   "source": [
    "# Exempel på en klass bil"
   ]
  },
  {
   "cell_type": "code",
   "execution_count": 19,
   "metadata": {},
   "outputs": [
    {
     "data": {
      "text/plain": [
       "'The Car is red and and is called Old Betty'"
      ]
     },
     "execution_count": 19,
     "metadata": {},
     "output_type": "execute_result"
    }
   ],
   "source": [
    "class Car:\n",
    "    def __init__(self, color, name):\n",
    "        self.color = color\n",
    "        self.name = name\n",
    "        \n",
    "    def toString(self):\n",
    "        return(\"The Car is {} and and is called {}\" .format(self.color, self.name))\n",
    "    \n",
    "    def set_name(self, name):\n",
    "        #logic and validation\n",
    "        self.name = name\n",
    "        \n",
    "    def get_name(self):\n",
    "        return self.name\n",
    "    \n",
    "    def set_color(self, color):    \n",
    "    \n",
    "old_betty = Car(\"red\", \"Old Betty\")\n",
    "old_betty.toString()\n"
   ]
  },
  {
   "cell_type": "code",
   "execution_count": 18,
   "metadata": {},
   "outputs": [
    {
     "data": {
      "text/plain": [
       "'The Car is red and and is called Old Betty'"
      ]
     },
     "execution_count": 18,
     "metadata": {},
     "output_type": "execute_result"
    }
   ],
   "source": [
    "car = Car(\"red\", \"Old Betty\")\n",
    "car.toString()"
   ]
  },
  {
   "cell_type": "code",
   "execution_count": 22,
   "metadata": {},
   "outputs": [
    {
     "name": "stdout",
     "output_type": "stream",
     "text": [
      "The Car is red and and is called Old Betty\n"
     ]
    }
   ],
   "source": [
    "type(car)\n",
    "print(car.toString())"
   ]
  }
 ],
 "metadata": {
  "kernelspec": {
   "display_name": "Python 3",
   "language": "python",
   "name": "python3"
  },
  "language_info": {
   "codemirror_mode": {
    "name": "ipython",
    "version": 3
   },
   "file_extension": ".py",
   "mimetype": "text/x-python",
   "name": "python",
   "nbconvert_exporter": "python",
   "pygments_lexer": "ipython3",
   "version": "3.7.4"
  }
 },
 "nbformat": 4,
 "nbformat_minor": 2
}
