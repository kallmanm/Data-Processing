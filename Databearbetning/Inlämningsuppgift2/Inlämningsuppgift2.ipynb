{
 "cells": [
  {
   "cell_type": "markdown",
   "metadata": {},
   "source": [
    "# Inlämningsuppgift2 - Steam Sale!\n",
    "Mattias Kallman 2019\n"
   ]
  },
  {
   "cell_type": "markdown",
   "metadata": {},
   "source": [
    "## Uppgiftens beskrivning:\n",
    "\n",
    "Uppgiften handlar om att lyckas scrapea data från steams butiksida för produkter med nedsatta pris. Data ska rensas och det relevanta ska appendas till en .csv fil. Tanken är att man kör scriptet t.ex en gång i veckan för att lägga till data till excelfilen.\n",
    "Man kunde även exportera filen som ett .py script från jupyter notebook och automatisera körandet av filen, men det här hör inte till den här kursen.\n",
    "\n",
    "Bekanta dig med Steams produktsida (specials) ​HÄR\n",
    "(öppna källkoden, kolla t.ex vilka css klasser som kunde användas mm.)\n",
    "### 1. Data Scraping och Data Munging\n",
    "**ok** - Ladda ner sida 1 av erbjudanden på steam. Skapa en tabell med följande rubriker och fyll tabellen med data från sajten.\n",
    "\n",
    "**ok** - **Spelnamn|Rating|#Reviews|Rabatt%|Pris|OrdinariePris|Utgivningsår|Win|Lin|OSX|Tid**\n",
    "\n",
    "**ok** - Skapa en sifferbaserad rating enligt alternativen som steam använder i textform (Mostly Positive, Overwhelmingly Positive ...).\n",
    "\n",
    "**ok** - Använd 0 eller 1 för att beteckna ifall spelet stöder platformen (operativsystem).\n",
    "\n",
    "**ok** - Kom ihåg att granska (och ge mig en bild av datan) genom att använda t.ex. head() och describe() för att få en bättre översikt över den insamlade datan.\n",
    "\n",
    "**ok** - För fulla poäng krävs att man samlar data från 5 sidor med erbjudanden.\n",
    "\n",
    "\n",
    "**ok** - Skapa en CSV fil (men endast ifall den inte redan finns!) och skriv in datan som har samlats. På så vis kan scriptet skapa en fil ifall den inte finns, och ifall den finns fortsätter datainsamlingen.\n",
    "\n",
    "\n",
    "### 2. Reflektion och feedback\n",
    "**ok** - Kommentera ditt utförande och visa eventuella delmoment du utförde som kommentarer i din .ipynb fil. \n",
    "\n",
    "**ok** - Använd markup för att formattera längre förklaringar över vad du gjort i textform ovanför kodrutan, och kommentarer (#) i din kod för att illustrera vilka variabler som innehåller vad för data i vilket skede."
   ]
  },
  {
   "cell_type": "markdown",
   "metadata": {},
   "source": [
    "### Importerar biblioteken jag kommer att behöva"
   ]
  },
  {
   "cell_type": "code",
   "execution_count": null,
   "metadata": {},
   "outputs": [],
   "source": [
    "from urllib.request import urlopen\n",
    "from bs4 import BeautifulSoup as soup\n",
    "import pandas as pd\n",
    "import numpy as np\n",
    "import re\n",
    "from datetime import datetime\n",
    "import os"
   ]
  },
  {
   "cell_type": "markdown",
   "metadata": {},
   "source": [
    "### Skapar en funktion som hämtar websidan för steam sales."
   ]
  },
  {
   "cell_type": "code",
   "execution_count": null,
   "metadata": {},
   "outputs": [],
   "source": [
    "# Function that fetches website and returns it as a parsed BeautifulSoup object\n",
    "def get_website(website):\n",
    "    return soup(urlopen(website).read())\n"
   ]
  },
  {
   "cell_type": "code",
   "execution_count": null,
   "metadata": {},
   "outputs": [],
   "source": [
    "# Call function and assign values to a variable to work with locally.\n",
    "web_page = get_website(website='https://store.steampowered.com/search/?specials=1')"
   ]
  },
  {
   "cell_type": "code",
   "execution_count": null,
   "metadata": {
    "scrolled": true
   },
   "outputs": [],
   "source": [
    "# Test that web page loads\n",
    "print(web_page.prettify())"
   ]
  },
  {
   "cell_type": "markdown",
   "metadata": {},
   "source": [
    "### Nedan skapar jag en funktion som konverterar  Steams betyg till sifferskala."
   ]
  },
  {
   "cell_type": "code",
   "execution_count": null,
   "metadata": {},
   "outputs": [],
   "source": [
    "# Function that converts Steam sale 'Strings' ratings into a numeric value. Returns 'n/a' if no match is found.\n",
    "def convert_steam_rating_to_numeric_value(rating):\n",
    "    if(rating == \"Overwhelmingly Positive\"):\n",
    "        return 8\n",
    "    elif(rating == \"Very Positive\"):\n",
    "        return 7\n",
    "    elif(rating == \"Positive\"):\n",
    "        return 6\n",
    "    elif(rating == \"Mostly Positive\"):\n",
    "        return 5\n",
    "    elif(rating == \"Mixed\"):\n",
    "        return 4\n",
    "    elif(rating == \"Mostly Negative\"):\n",
    "        return 3\n",
    "    elif(rating == \"Negative\"):\n",
    "        return 2\n",
    "    elif(rating == \"Very Negative\"):\n",
    "        return 1\n",
    "    elif(rating == \"Overwhelmingly Negative\"):\n",
    "        return 0\n",
    "    else:\n",
    "        \"n/a\""
   ]
  },
  {
   "cell_type": "markdown",
   "metadata": {},
   "source": [
    "### Huvudfunktionen som gör det tunga lyftandet och hämtar datan, anpassar datan och returnerar den tillsist som en Matris."
   ]
  },
  {
   "cell_type": "code",
   "execution_count": null,
   "metadata": {},
   "outputs": [],
   "source": [
    "# Searches web page for list top 25 games, and scrapes for name, rating, number of ratings, discount %, discount price,\n",
    "# original price, release date, os(true/false for: win, linux, mac) \n",
    "def get_games(soup_web_page):\n",
    "    # Get current time\n",
    "    now = datetime.now()\n",
    "    # Saves the web page's form containing the list(<a>) of the games.\n",
    "    games_list = soup_web_page.select_one(\n",
    "        \"form[id=advsearchform]\").find_all(\"a\",{\"class\":\"search_result_row ds_collapse_flag\"})\n",
    "    \n",
    "    # Variable where we save the treated data that will be returned at the end of the function.\n",
    "    new_games_list = []\n",
    "    \n",
    "    # Loop thru all games from game_list and fetch data.\n",
    "    for game in games_list:\n",
    "        name = game.select_one(\"span[class=title]\").text\n",
    "        try:\n",
    "            rating = game.find(\"span\", {\"class\":\"search_review_summary\"})['data-tooltip-html']\n",
    "            rating = rating.split(\"<br>\")\n",
    "            rating = rating[0]\n",
    "        except:\n",
    "            continue\n",
    "        rating_score =convert_steam_rating_to_numeric_value(rating=rating)\n",
    "        try:\n",
    "            rating_numbers = game.find(\"span\", {\"class\":\"search_review_summary\"})['data-tooltip-html']\n",
    "            rating_numbers = rating_numbers.split(\"<br>\")\n",
    "            rating_numbers = rating_numbers[1].split(\" \")\n",
    "            rating_numbers = rating_numbers[3]\n",
    "        except:\n",
    "            continue\n",
    "        try:\n",
    "            discount_procent = game.find(\"div\",{\"class\":\"col search_discount responsive_secondrow\"}).text\n",
    "            discount_procent = discount_procent.replace(\"\\n\",\"\")\n",
    "        except:\n",
    "            continue\n",
    "        try:\n",
    "            discount_price = game.find(\"div\", {\"class\":\"col search_price discounted responsive_secondrow\"}).text\n",
    "            discount_price = discount_price.split(\"€\")\n",
    "            discount_price = discount_price[1]\n",
    "        except:\n",
    "            continue         \n",
    "        original_price = game.find(\"strike\").text.replace(\"€\",\"\")\n",
    "        year = game.find(\"div\",{\"class\":\"col search_released responsive_secondrow\"}).text\n",
    "        os = game.select_one(\"p\")\n",
    "        win = bool(re.search(\"win\", str(os)))\n",
    "        lin = bool(re.search(\"linux\", str(os)))\n",
    "        mac = bool(re.search(\"mac\", str(os)))\n",
    "        scrape_time = now\n",
    "        \n",
    "        # Once all data is collected for this iteration, the local variables are then appended to new_games_list.\n",
    "        new_games_list.append(\n",
    "            [name, rating, rating_score, rating_numbers, discount_procent, \n",
    "             discount_price, original_price, year, win, lin, mac, scrape_time])\n",
    "        \n",
    "    # Once data aggregation is done it is finally returned\n",
    "    return new_games_list\n",
    "    "
   ]
  },
  {
   "cell_type": "code",
   "execution_count": null,
   "metadata": {
    "scrolled": true
   },
   "outputs": [],
   "source": [
    "# Creating matrix with game data from web_page data\n",
    "games_matrix = get_games(soup_web_page=web_page)"
   ]
  },
  {
   "cell_type": "code",
   "execution_count": null,
   "metadata": {
    "scrolled": true
   },
   "outputs": [],
   "source": [
    "# Function that converts normal python matrix to Pandas DataFrame model. Function also adds columns, etc.\n",
    "def matrix_to_DataFrame(matrix):\n",
    "    df = pd.DataFrame(matrix)\n",
    "    df.columns = ['Names', 'Rating', 'Rating Score', 'Number of Ratings', 'Discount %', 'Discount Price', 'Normal Price', 'Release Date', 'Win', 'Linux', 'Mac', 'Scrape Time']\n",
    "    return df"
   ]
  },
  {
   "cell_type": "code",
   "execution_count": null,
   "metadata": {},
   "outputs": [],
   "source": [
    "# Creating DataFrame of games_matrix\n",
    "df_steam_sale = matrix_to_DataFrame(matrix=games_matrix)"
   ]
  },
  {
   "cell_type": "code",
   "execution_count": null,
   "metadata": {
    "scrolled": true
   },
   "outputs": [],
   "source": [
    "df_steam_sale"
   ]
  },
  {
   "cell_type": "markdown",
   "metadata": {},
   "source": [
    "## Spara till CSV filformat"
   ]
  },
  {
   "cell_type": "code",
   "execution_count": null,
   "metadata": {},
   "outputs": [],
   "source": [
    "# Function that checks if file exists and appends data to .csv file, if not it creates .csv file with data.\n",
    "def write_to_csv(data_frame):\n",
    "    if not os.path.isfile(r'steamSale.csv'):\n",
    "        data_frame.to_csv(r'steamSale.csv', header='column_names', index=False)\n",
    "    else:\n",
    "        data_frame.to_csv(r'steamSale.csv', mode='a', header=False, index=False)"
   ]
  },
  {
   "cell_type": "code",
   "execution_count": null,
   "metadata": {},
   "outputs": [],
   "source": [
    "write_to_csv(data_frame=df_steam_sale)"
   ]
  },
  {
   "cell_type": "code",
   "execution_count": null,
   "metadata": {
    "scrolled": true
   },
   "outputs": [],
   "source": [
    "pd.read_csv('steamSale.csv')"
   ]
  },
  {
   "cell_type": "code",
   "execution_count": null,
   "metadata": {
    "scrolled": true
   },
   "outputs": [],
   "source": []
  },
  {
   "cell_type": "markdown",
   "metadata": {},
   "source": [
    "# Till sist så samlar vi alla funktioner i en mästarfunktion som kör allt och sparar datan till en csv"
   ]
  },
  {
   "cell_type": "code",
   "execution_count": null,
   "metadata": {
    "scrolled": true
   },
   "outputs": [],
   "source": [
    "# Compiling all the functions together in one master function to scrape, munge and write to csv format.\n",
    "def scraping_munging_writing_to_csv(url):\n",
    "    web_page = get_website(website=url)\n",
    "    games_matrix = get_games(soup_web_page=web_page)\n",
    "    df_steam_sale = matrix_to_DataFrame(matrix=games_matrix)\n",
    "    write_to_csv(data_frame=df_steam_sale)\n",
    "    "
   ]
  },
  {
   "cell_type": "markdown",
   "metadata": {},
   "source": [
    "#### Kör funktionen 5 ggr för att få 5 sidor av data med i csv:n."
   ]
  },
  {
   "cell_type": "code",
   "execution_count": null,
   "metadata": {},
   "outputs": [],
   "source": [
    "# Run the function 5 times with the 5 first pages from the steam sale site.\n",
    "scraping_munging_writing_to_csv(url='https://store.steampowered.com/search/?specials=1')\n",
    "scraping_munging_writing_to_csv(url='https://store.steampowered.com/search/?specials=1&page=2')\n",
    "scraping_munging_writing_to_csv(url='https://store.steampowered.com/search/?specials=1&page=3')\n",
    "scraping_munging_writing_to_csv(url='https://store.steampowered.com/search/?specials=1&page=4')\n",
    "scraping_munging_writing_to_csv(url='https://store.steampowered.com/search/?specials=1&page=5')\n"
   ]
  },
  {
   "cell_type": "code",
   "execution_count": null,
   "metadata": {
    "scrolled": true
   },
   "outputs": [],
   "source": [
    "# Reads the csv file and displays the content\n",
    "pd.read_csv('steamSale.csv')"
   ]
  },
  {
   "cell_type": "markdown",
   "metadata": {},
   "source": [
    "# By Mattias Kallman 2019"
   ]
  }
 ],
 "metadata": {
  "kernelspec": {
   "display_name": "Python 3",
   "language": "python",
   "name": "python3"
  },
  "language_info": {
   "codemirror_mode": {
    "name": "ipython",
    "version": 3
   },
   "file_extension": ".py",
   "mimetype": "text/x-python",
   "name": "python",
   "nbconvert_exporter": "python",
   "pygments_lexer": "ipython3",
   "version": "3.7.4"
  }
 },
 "nbformat": 4,
 "nbformat_minor": 2
}
